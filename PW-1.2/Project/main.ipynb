{
 "cells": [
  {
   "cell_type": "code",
   "execution_count": 1,
   "metadata": {},
   "outputs": [],
   "source": [
    "import pandas as pd\n",
    "\n",
    "weather_data = pd.read_csv(\"Data/Hannover_weather.csv\", sep=\";\")\n",
    "weather_data = weather_data.drop(weather_data.columns[4:], axis=1)"
   ]
  },
  {
   "attachments": {},
   "cell_type": "markdown",
   "metadata": {},
   "source": [
    "## Data types convertation\n",
    "At first, we need to convert types of columns in pandas frame, because in the next steps visualization won't work right, at least with the numeric Y axis."
   ]
  },
  {
   "cell_type": "code",
   "execution_count": 2,
   "metadata": {},
   "outputs": [],
   "source": [
    "weather_data['Timestamp'] = pd.to_datetime(weather_data['Timestamp'])\n",
    "weather_data['Temperature 1'] = pd.to_numeric(list(map(\n",
    "    lambda x: x.replace(',', '.'), weather_data['Temperature 1'])))\n",
    "weather_data['Temperature 2'] = pd.to_numeric(list(map(\n",
    "    lambda x: x.replace(',', '.'), weather_data['Temperature 2'])))\n",
    "weather_data['Humidity'] = pd.to_numeric(weather_data['Humidity'])"
   ]
  },
  {
   "cell_type": "code",
   "execution_count": 6,
   "metadata": {},
   "outputs": [
    {
     "name": "stdout",
     "output_type": "stream",
     "text": [
      "finished => 2022-01-02\n",
      "finished => 2022-02-02\n",
      "finished => 2022-03-02\n",
      "finished => 2022-04-02\n",
      "finished => 2022-05-02\n",
      "finished => 2022-06-02\n",
      "finished => 2022-07-02\n",
      "finished => 2022-08-02\n",
      "finished => 2022-09-02\n",
      "finished => 2022-10-02\n",
      "finished => 2022-11-02\n",
      "finished => 2022-12-02\n",
      "finished => 2023-01-02\n",
      "finished => 2023-02-02\n"
     ]
    }
   ],
   "source": [
    "import matplotlib.pyplot as plt\n",
    "import matplotlib.dates as md\n",
    "from datetime import datetime\n",
    "import os\n",
    "\n",
    "\n",
    "def dates_for_processing_generator(start_data: pd.Timestamp, end_data: pd.Timestamp):\n",
    "    # this generator follows logic that is specified in the variant\n",
    "    iter_year = start_data.year\n",
    "    iter_month = start_data.month\n",
    "\n",
    "    while iter_year != end_data.year or iter_month != end_data.month + 1:\n",
    "        yield datetime(year=iter_year, month=iter_month, day=2)\n",
    "        iter_month += 1\n",
    "        if iter_month > 12:\n",
    "            iter_month = 1\n",
    "            iter_year += 1\n",
    "\n",
    "\n",
    "def process_data_to_image(\n",
    "        data: pd.DataFrame,\n",
    "        date: pd.Timestamp,\n",
    "        column: str,\n",
    "        folder_to_save: str,\n",
    "        color: str = 'b'):\n",
    "    fig, ax = plt.subplots()\n",
    "    ax.xaxis.set_major_formatter(md.DateFormatter('%H:%M'))\n",
    "    fig.set_size_inches(16, 9)\n",
    "\n",
    "    next_day = pd.Timestamp(year=date.year, month=date.month, day=date.day + 1)\n",
    "    data_for_day = data[(date < data['Timestamp'])\n",
    "                        & (data['Timestamp'] < next_day)]\n",
    "\n",
    "    ax.plot(\n",
    "        data_for_day['Timestamp'],\n",
    "        data_for_day[column],\n",
    "        color=color,\n",
    "        label=column)\n",
    "\n",
    "    image_name = f'{date.year}-{date.month}-{date.day}-{column}'\n",
    "\n",
    "    plt.title(f'{column} changes for {image_name}')\n",
    "    plt.savefig(f'{folder_to_save}/{image_name}.png', dpi=300)\n",
    "    plt.close(fig)\n",
    "\n",
    "\n",
    "start_data = pd.Timestamp(year=2022, month=1, day=2)\n",
    "current_date = pd.Timestamp.today()\n",
    "dates_to_process = list(\n",
    "    dates_for_processing_generator(start_data, current_date))\n",
    "\n",
    "plt.xlabel('Time, hour')\n",
    "plt.ylabel('Temperature, °C')\n",
    "\n",
    "current_folder = os.getcwd()\n",
    "folder_for_images = current_folder + '/Images'\n",
    "if not os.path.exists(folder_for_images):\n",
    "    os.makedirs(folder_for_images)\n",
    "\n",
    "for date in dates_to_process:\n",
    "    folder_for_day_data = folder_for_images + f'/{date.year}-{date.month}-{date.day}'\n",
    "    if not os.path.exists(folder_for_day_data):\n",
    "        os.makedirs(folder_for_day_data)\n",
    "    \n",
    "    process_data_to_image(\n",
    "        weather_data, date, 'Temperature 1', folder_for_day_data, 'b')\n",
    "    process_data_to_image(\n",
    "        weather_data, date, 'Temperature 2', folder_for_day_data, 'y')\n",
    "    process_data_to_image(\n",
    "        weather_data, date, 'Humidity', folder_for_day_data, 'black')\n",
    "\n",
    "    print(f'finished => {date.date()}')\n",
    "# without additional closing, the image without any params is displayed\n",
    "plt.close()\n"
   ]
  }
 ],
 "metadata": {
  "kernelspec": {
   "display_name": "venv",
   "language": "python",
   "name": "python3"
  },
  "language_info": {
   "codemirror_mode": {
    "name": "ipython",
    "version": 3
   },
   "file_extension": ".py",
   "mimetype": "text/x-python",
   "name": "python",
   "nbconvert_exporter": "python",
   "pygments_lexer": "ipython3",
   "version": "3.10.10"
  },
  "orig_nbformat": 4,
  "vscode": {
   "interpreter": {
    "hash": "aa3700ae6f7f6851cb6be0306bf9b1ef7ffad2c15e71bd071a60d6dafb047acd"
   }
  }
 },
 "nbformat": 4,
 "nbformat_minor": 2
}
